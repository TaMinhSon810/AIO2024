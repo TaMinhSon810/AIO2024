{
 "cells": [
  {
   "cell_type": "markdown",
   "metadata": {},
   "source": [
    "## Section 1 - List Creation and Acessing"
   ]
  },
  {
   "cell_type": "code",
   "execution_count": 3,
   "metadata": {},
   "outputs": [
    {
     "data": {
      "text/plain": [
       "[1, 2, 3, 4, 5, 6, 7, 8, 9, 10]"
      ]
     },
     "execution_count": 3,
     "metadata": {},
     "output_type": "execute_result"
    }
   ],
   "source": [
    "# Câu 1\n",
    "data = [i for i in range(1, 11)]\n",
    "\n",
    "data"
   ]
  },
  {
   "cell_type": "code",
   "execution_count": 4,
   "metadata": {},
   "outputs": [
    {
     "data": {
      "text/plain": [
       "[1, 2, 3, 4, 5]"
      ]
     },
     "execution_count": 4,
     "metadata": {},
     "output_type": "execute_result"
    }
   ],
   "source": [
    "# Câu 2\n",
    "data_2 = data[:5]\n",
    "\n",
    "data_2"
   ]
  },
  {
   "cell_type": "code",
   "execution_count": 6,
   "metadata": {},
   "outputs": [
    {
     "data": {
      "text/plain": [
       "[1, 3, 5, 7, 9]"
      ]
     },
     "execution_count": 6,
     "metadata": {},
     "output_type": "execute_result"
    }
   ],
   "source": [
    "# Câu 3\n",
    "data_3 = [i for i in data if i % 2 != 0]\n",
    "\n",
    "data_3"
   ]
  },
  {
   "cell_type": "code",
   "execution_count": 7,
   "metadata": {},
   "outputs": [
    {
     "data": {
      "text/plain": [
       "55"
      ]
     },
     "execution_count": 7,
     "metadata": {},
     "output_type": "execute_result"
    }
   ],
   "source": [
    "# Câu 4\n",
    "data_4 = 0\n",
    "\n",
    "for i in data:\n",
    "    data_4 += i\n",
    "    \n",
    "data_4"
   ]
  },
  {
   "cell_type": "markdown",
   "metadata": {},
   "source": [
    "## Section 2 - List CRUD"
   ]
  },
  {
   "cell_type": "code",
   "execution_count": 24,
   "metadata": {},
   "outputs": [
    {
     "data": {
      "text/plain": [
       "[2, 4, 6, 8, 10, 12]"
      ]
     },
     "execution_count": 24,
     "metadata": {},
     "output_type": "execute_result"
    }
   ],
   "source": [
    "# Câu 1\n",
    "lst_data = [i for i in range(1, 13) if i % 2 == 0]\n",
    "\n",
    "lst_data"
   ]
  },
  {
   "cell_type": "code",
   "execution_count": 25,
   "metadata": {},
   "outputs": [
    {
     "data": {
      "text/plain": [
       "[2, 4, 8, 10]"
      ]
     },
     "execution_count": 25,
     "metadata": {},
     "output_type": "execute_result"
    }
   ],
   "source": [
    "# Câu 2\n",
    "lst_data_2 = [i for i in lst_data if i % 3 != 0]\n",
    "\n",
    "lst_data_2"
   ]
  },
  {
   "cell_type": "code",
   "execution_count": 30,
   "metadata": {},
   "outputs": [
    {
     "data": {
      "text/plain": [
       "[2, 4, 8, 6, 7, 8, 10, 1, 2, 3]"
      ]
     },
     "execution_count": 30,
     "metadata": {},
     "output_type": "execute_result"
    }
   ],
   "source": [
    "# Câu 3\n",
    "lst_data_3 = lst_data_2.copy()\n",
    "\n",
    "for i in range(1, 4):\n",
    "    lst_data_3.append(i)\n",
    "\n",
    "for i in range(8, 5, -1):\n",
    "    lst_data_3.insert(3, i)\n",
    "\n",
    "lst_data_3"
   ]
  },
  {
   "cell_type": "code",
   "execution_count": 35,
   "metadata": {},
   "outputs": [
    {
     "data": {
      "text/plain": [
       "[0, 0, 0, 0, 7, 0, 0, 1, 0, 3]"
      ]
     },
     "execution_count": 35,
     "metadata": {},
     "output_type": "execute_result"
    }
   ],
   "source": [
    "# Câu 4\n",
    "lst_data_4 = lst_data_3.copy()\n",
    "\n",
    "lst_data_4 = [0 if (i % 2 == 0) or (i % 5 == 0) else i for i in lst_data_3]\n",
    "\n",
    "lst_data_4"
   ]
  },
  {
   "cell_type": "markdown",
   "metadata": {},
   "source": [
    "## Section 3 - List and Branching"
   ]
  },
  {
   "cell_type": "code",
   "execution_count": 43,
   "metadata": {},
   "outputs": [
    {
     "data": {
      "text/plain": [
       "[153, 407, 371, 1634, 370]"
      ]
     },
     "execution_count": 43,
     "metadata": {},
     "output_type": "execute_result"
    }
   ],
   "source": [
    "# Số Amstrong\n",
    "test_case_1 = [130, 270, 153, 407, 177, 371, 1000, 1634, 370]\n",
    "\n",
    "result = []\n",
    "\n",
    "for i in test_case_1:\n",
    "    if i == sum([int(j) ** len(str(i)) for j in str(i)]):\n",
    "        result.append(i)\n",
    "\n",
    "result"
   ]
  },
  {
   "cell_type": "markdown",
   "metadata": {},
   "source": [
    "## Section 4 - List and Branching"
   ]
  },
  {
   "cell_type": "code",
   "execution_count": 47,
   "metadata": {},
   "outputs": [
    {
     "name": "stdout",
     "output_type": "stream",
     "text": [
      "[True, True, True, False, False]\n",
      "[True, False, False, False, False]\n",
      "[True, False, True]\n"
     ]
    }
   ],
   "source": [
    "def list_branching(candies, extraCandies):\n",
    "    max = candies[0]\n",
    "    result = []\n",
    "    for i in range(len(candies)):\n",
    "        if max <= candies[i] + extraCandies:\n",
    "            max = candies[i] + extraCandies\n",
    "            result.append(True)\n",
    "        else:\n",
    "            result.append(False)\n",
    "    print(result)\n",
    "\n",
    "list_branching([2, 3, 5, 1, 3], 3)\n",
    "list_branching([4, 2, 1, 1, 2], 1)\n",
    "list_branching([12, 1, 12], 10)"
   ]
  },
  {
   "cell_type": "markdown",
   "metadata": {},
   "source": [
    "## Section 5 - Computing median for a list of numbers"
   ]
  },
  {
   "cell_type": "code",
   "execution_count": 54,
   "metadata": {},
   "outputs": [
    {
     "data": {
      "text/plain": [
       "[1, 2, 3, 4, 5, 6, 7, 8, 9, 10]"
      ]
     },
     "execution_count": 54,
     "metadata": {},
     "output_type": "execute_result"
    }
   ],
   "source": [
    "# Câu 1\n",
    "lst_data = [i for i in range(1, 11)]\n",
    "\n",
    "lst_data"
   ]
  },
  {
   "cell_type": "code",
   "execution_count": 56,
   "metadata": {},
   "outputs": [
    {
     "name": "stdout",
     "output_type": "stream",
     "text": [
      "5.5\n"
     ]
    }
   ],
   "source": [
    "# Câu 2\n",
    "result = 0\n",
    "if len(lst_data) % 2 != 0:\n",
    "    result = lst_data[(len(lst_data) + 1) // 2]\n",
    "else:\n",
    "    result = (lst_data[len(lst_data) // 2 - 1] + lst_data[len(lst_data) // 2]) / 2\n",
    "\n",
    "print(result)"
   ]
  },
  {
   "cell_type": "code",
   "execution_count": 61,
   "metadata": {},
   "outputs": [
    {
     "name": "stdout",
     "output_type": "stream",
     "text": [
      "[9, 7, 5, 3, 1]\n"
     ]
    }
   ],
   "source": [
    "# Câu 3\n",
    "lst_odd_filter = [i for i in lst_data if i % 2 != 0]\n",
    "\n",
    "lst_odd_filter.sort(reverse=True)\n",
    "\n",
    "print(lst_odd_filter)"
   ]
  },
  {
   "cell_type": "markdown",
   "metadata": {},
   "source": [
    "## Section 6 - Computing mean for a list of numbers"
   ]
  },
  {
   "cell_type": "code",
   "execution_count": 62,
   "metadata": {},
   "outputs": [
    {
     "data": {
      "text/plain": [
       "[1, 2, 3, 4, 5, 6, 7, 8, 9, 10]"
      ]
     },
     "execution_count": 62,
     "metadata": {},
     "output_type": "execute_result"
    }
   ],
   "source": [
    "# Câu 1\n",
    "lst_data = [i for i in range(1, 11)]\n",
    "\n",
    "lst_data"
   ]
  },
  {
   "cell_type": "code",
   "execution_count": 63,
   "metadata": {},
   "outputs": [
    {
     "name": "stdout",
     "output_type": "stream",
     "text": [
      "5.0\n",
      "6.0\n"
     ]
    }
   ],
   "source": [
    "lst_data_odd = [i for i in lst_data if i % 2 != 0]\n",
    "\n",
    "lst_data_even = [i for i in lst_data if i % 2 == 0]\n",
    "\n",
    "mean_odd = sum(lst_data_odd) / len(lst_data_odd)\n",
    "\n",
    "mean_even = sum(lst_data_even) / len(lst_data_even)\n",
    "\n",
    "print(mean_odd)\n",
    "\n",
    "print(mean_even)"
   ]
  },
  {
   "cell_type": "code",
   "execution_count": 65,
   "metadata": {},
   "outputs": [
    {
     "name": "stdout",
     "output_type": "stream",
     "text": [
      "Median: 5.5\n",
      "Mean: 5.5\n"
     ]
    }
   ],
   "source": [
    "# Câu 3\n",
    "if len(lst_data) % 2 != 0:\n",
    "    median = lst_data[(len(lst_data) + 1) // 2]\n",
    "else:\n",
    "    median = (lst_data[len(lst_data) // 2 - 1] + lst_data[len(lst_data) // 2]) / 2\n",
    "\n",
    "mean = sum(lst_data) / len(lst_data)\n",
    "\n",
    "print(f\"Median: {median}\")\n",
    "\n",
    "print(f\"Mean: {mean}\")"
   ]
  },
  {
   "cell_type": "markdown",
   "metadata": {},
   "source": [
    "## Section 7: Bag of Words (NLP)"
   ]
  },
  {
   "cell_type": "code",
   "execution_count": 12,
   "metadata": {},
   "outputs": [
    {
     "name": "stdout",
     "output_type": "stream",
     "text": [
      "Tôi thích AI thích Toán: [1, 1, 1, 0, 0, 2, 0]\n",
      "Bags-of-Words: ['AI', 'Toán', 'Tôi', 'môn', 'nhạc', 'thích', 'âm']\n"
     ]
    }
   ],
   "source": [
    "def bag_of_word(corpus):\n",
    "    bag_of_word = []\n",
    "    for sentence in corpus:\n",
    "        for word in sentence.split(' '):\n",
    "            if word not in bag_of_word:\n",
    "                bag_of_word.append(word)\n",
    "\n",
    "    return sorted(bag_of_word)\n",
    "\n",
    "def vector(sentence, bow):\n",
    "    vector = []\n",
    "    word = sentence.split(\" \")\n",
    "    for i in bow:\n",
    "        vector.append(word.count(i))\n",
    "\n",
    "    return vector\n",
    "\n",
    "corpus = [\"Tôi thích môn Toán\", \"Tôi thích AI\", \"Tôi thích âm nhạc\"]\n",
    "bow = bag_of_word(corpus)\n",
    "sentence = \"Tôi thích AI thích Toán\"\n",
    "\n",
    "print(f\"{sentence}: {vector(sentence, bow)}\", end = '\\n')\n",
    "print(f\"Bags-of-Words: {bag_of_word(corpus)}\")\n"
   ]
  },
  {
   "cell_type": "code",
   "execution_count": 13,
   "metadata": {},
   "outputs": [
    {
     "name": "stdout",
     "output_type": "stream",
     "text": [
      "Tôi thích AI thích Toán: [1, 1, 1, 0, 0, 2, 0]\n",
      "Bags-of-Words: ['AI', 'Toán', 'Tôi', 'môn', 'nhạc', 'thích', 'âm']\n"
     ]
    }
   ],
   "source": [
    "from collections import Counter\n",
    "\n",
    "def bag_of_word(corpus):\n",
    "    # Create a set of all unique words in the corpus\n",
    "    unique_words = set()\n",
    "    for sentence in corpus:\n",
    "        unique_words.update(sentence.split())\n",
    "    \n",
    "    # Convert the set to a sorted list\n",
    "    return sorted(unique_words)\n",
    "\n",
    "def vector(sentence, bow):\n",
    "    # Count word occurrences in the sentence\n",
    "    word_count = Counter(sentence.split())\n",
    "    \n",
    "    # Create the vector based on the BoW\n",
    "    return [word_count[word] for word in bow]\n",
    "\n",
    "corpus = [\"Tôi thích môn Toán\", \"Tôi thích AI\", \"Tôi thích âm nhạc\"]\n",
    "bow = bag_of_word(corpus)\n",
    "sentence = \"Tôi thích AI thích Toán\"\n",
    "\n",
    "print(f\"{sentence}: {vector(sentence, bow)}\")\n",
    "print(f\"Bags-of-Words: {bow}\")\n"
   ]
  },
  {
   "cell_type": "markdown",
   "metadata": {},
   "source": [
    "## Section 8: Algorithms on List"
   ]
  },
  {
   "cell_type": "code",
   "execution_count": 16,
   "metadata": {},
   "outputs": [
    {
     "name": "stdout",
     "output_type": "stream",
     "text": [
      "Vị trí None đầu tiên: 2 - Danh sách vị trí có giá trị None: [2, 4, 6]\n"
     ]
    }
   ],
   "source": [
    "def find_none(list):\n",
    "    list_none = []\n",
    "    for index in range(len(list)):\n",
    "        if list[index] == None:\n",
    "            list_none.append(index)\n",
    "    return list_none\n",
    "\n",
    "list = [1, 1.1, None, 1.4, None, 1.5, None, 2.0]\n",
    "\n",
    "print(f'Vị trí None đầu tiên: {find_none(list)[0]} - Danh sách vị trí có giá trị None: {find_none(list)}')"
   ]
  },
  {
   "cell_type": "markdown",
   "metadata": {},
   "source": [
    "## Section 9: Interpolation for List (Time-series)"
   ]
  },
  {
   "cell_type": "code",
   "execution_count": 18,
   "metadata": {},
   "outputs": [
    {
     "name": "stdout",
     "output_type": "stream",
     "text": [
      "[1, 1.1, 1.1, 1.4, 1.4, 1.5, 1.5, 2.0]\n"
     ]
    }
   ],
   "source": [
    "def interpolation(list):\n",
    "    for index in range(len(list)):\n",
    "        if list[index] == None:\n",
    "            list[index] = list[index - 1]\n",
    "    return list\n",
    "\n",
    "list = [1, 1.1, None, 1.4, None, 1.5, None, 2.0]\n",
    "\n",
    "print(interpolation(list))"
   ]
  },
  {
   "cell_type": "markdown",
   "metadata": {},
   "source": [
    "## Section 10: 2D List"
   ]
  },
  {
   "cell_type": "code",
   "execution_count": 22,
   "metadata": {},
   "outputs": [
    {
     "name": "stdout",
     "output_type": "stream",
     "text": [
      "[[1, 3], [4, 6], [7, 9]]\n"
     ]
    }
   ],
   "source": [
    "def create_2d_list(list_data):\n",
    "    lst_sub_data = []\n",
    "    for data in list_data:\n",
    "        lst_sub_data.append([data[0], data[2]])\n",
    "    \n",
    "    return lst_sub_data\n",
    "\n",
    "list_2d = [\n",
    "[1 , 2 , 3],\n",
    "[4 , 5 , 6],\n",
    "[7 , 8 , 9]]\n",
    "print(create_2d_list(list_2d))"
   ]
  },
  {
   "cell_type": "markdown",
   "metadata": {},
   "source": [
    "## Section 11: Matrix representation using List"
   ]
  },
  {
   "cell_type": "code",
   "execution_count": 29,
   "metadata": {},
   "outputs": [
    {
     "name": "stdout",
     "output_type": "stream",
     "text": [
      "Tổng [[3, 6, 9], [5, 8, 11], [8, 8, 10]]\n",
      "Hiệu [[-1, -2, -3], [3, 2, 1], [6, 8, 8]]\n",
      "Dot Product [[7, 10, 19], [19, 31, 55], [31, 52, 91]]\n"
     ]
    }
   ],
   "source": [
    "def matrix(mat_a, mat_b):\n",
    "    row_a = len(mat_a)\n",
    "    column_a = len(mat_a[0])\n",
    "    row_b = len(mat_b)\n",
    "    column_b = len(mat_b[0])\n",
    "\n",
    "\n",
    "    mat_sum = [[0] * column_a for i in range(row_a)]\n",
    "    mat_subtract = [[0] * column_a for i in range(row_a)]\n",
    "    mat_dot_product = [[0] * column_b for i in range(row_a)]\n",
    "\n",
    "    # Matrix addition and subtraction\n",
    "    for i in range(row_a):\n",
    "        for j in range(column_a):\n",
    "            mat_sum[i][j] = mat_a[i][j] + mat_b[i][j]\n",
    "            mat_subtract[i][j] = mat_a[i][j] - mat_b[i][j]\n",
    "            \n",
    "    # Matrix dot product        \n",
    "    for i in range(row_a):\n",
    "        for j in range(column_b):\n",
    "            for k in range(column_a):\n",
    "                mat_dot_product[i][j] += mat_a[i][k] * mat_b[k][j]\n",
    "\n",
    "\n",
    "    return mat_sum, mat_subtract, mat_dot_product\n",
    "\n",
    "mat_a = [[1, 2, 3], [4, 5, 6], [7, 8, 9]]\n",
    "mat_b = [[2, 4, 6], [1, 3, 5], [1, 0, 1]]\n",
    "\n",
    "mat_sum, mat_subtract, mat_dot_product = matrix(mat_a, mat_b)\n",
    "\n",
    "print(f\"Tổng {mat_sum}\")\n",
    "print(f\"Hiệu {mat_subtract}\")\n",
    "print(f\"Dot Product {mat_dot_product}\")\n",
    "\n"
   ]
  },
  {
   "cell_type": "markdown",
   "metadata": {},
   "source": [
    "## Section 12: List Comprehension"
   ]
  },
  {
   "cell_type": "code",
   "execution_count": 32,
   "metadata": {},
   "outputs": [
    {
     "name": "stdout",
     "output_type": "stream",
     "text": [
      "['AI', 'listen', 'music']\n"
     ]
    }
   ],
   "source": [
    "def remove_stop_words(list, sentence):\n",
    "    words = sentence.split(\" \")\n",
    "    result = [word for word in words if word not in list]\n",
    "\n",
    "    return result\n",
    "\n",
    "stop_words = [\"I\", \"love\", \"and\", \"to\"]\n",
    "input = \"I love AI and listen to music\"\n",
    "\n",
    "print(remove_stop_words(stop_words, input))"
   ]
  },
  {
   "cell_type": "markdown",
   "metadata": {},
   "source": [
    "## Section 13: List and Tuple"
   ]
  },
  {
   "cell_type": "code",
   "execution_count": 46,
   "metadata": {},
   "outputs": [
    {
     "name": "stdout",
     "output_type": "stream",
     "text": [
      "Result_vector1 = (5, 9)\n",
      "Result_vector2 = (6, 18)\n",
      "Distance = 18.973665961010276\n",
      "Index = (1, 0)\n"
     ]
    }
   ],
   "source": [
    "def list_and_tuple(tuple1, tuple2):\n",
    "    sum = tuple(a + b for a, b in zip(tuple1, tuple2))\n",
    "    dot_product = tuple(a * b for a, b in zip(tuple1, tuple2))\n",
    "\n",
    "    total = 0\n",
    "    for x in dot_product:\n",
    "        total += x ** 2\n",
    "    distance = total ** 0.5\n",
    "\n",
    "    index = tuple(t.index(3) for t in [tuple1, tuple2])\n",
    "\n",
    "    return sum, dot_product, distance, index\n",
    "\n",
    "my_tuple1 = (2,3)\n",
    "my_tuple2 = (3,6)\n",
    "\n",
    "sum, dot, distance, index = list_and_tuple(my_tuple1, my_tuple2)\n",
    "\n",
    "print(f\"Result_vector1 = {sum}\")\n",
    "print(f\"Result_vector2 = {dot}\")\n",
    "print(f\"Distance = {distance}\")\n",
    "print(f\"Index = {index}\")"
   ]
  },
  {
   "cell_type": "code",
   "execution_count": null,
   "metadata": {},
   "outputs": [],
   "source": []
  }
 ],
 "metadata": {
  "kernelspec": {
   "display_name": "Python 3",
   "language": "python",
   "name": "python3"
  },
  "language_info": {
   "codemirror_mode": {
    "name": "ipython",
    "version": 3
   },
   "file_extension": ".py",
   "mimetype": "text/x-python",
   "name": "python",
   "nbconvert_exporter": "python",
   "pygments_lexer": "ipython3",
   "version": "3.11.9"
  }
 },
 "nbformat": 4,
 "nbformat_minor": 2
}
